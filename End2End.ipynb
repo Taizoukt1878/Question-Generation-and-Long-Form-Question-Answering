{
 "cells": [
  {
   "cell_type": "code",
   "execution_count": 1,
   "id": "0de2a0e1",
   "metadata": {},
   "outputs": [
    {
     "name": "stdout",
     "output_type": "stream",
     "text": [
      "4.25.1\n"
     ]
    }
   ],
   "source": [
    "#!pip install transformers\n",
    "import transformers\n",
    "print(transformers.__version__)"
   ]
  },
  {
   "cell_type": "code",
   "execution_count": 1,
   "id": "ddd0e35c",
   "metadata": {},
   "outputs": [],
   "source": [
    "#from collections.abc import Iterable"
   ]
  },
  {
   "cell_type": "code",
   "execution_count": 3,
   "id": "da88987e",
   "metadata": {},
   "outputs": [],
   "source": [
    "#QG\n",
    "from pipelines import pipeline\n",
    "#PDF\n",
    "from PyPDF2 import PdfReader\n",
    "#Document store\n",
    "from haystack.document_stores import PineconeDocumentStore\n",
    "from haystack import Document\n",
    "#torch\n",
    "import torch\n",
    "from haystack.utils import print_answers\n",
    "import pickle"
   ]
  },
  {
   "cell_type": "markdown",
   "id": "d848e649",
   "metadata": {},
   "source": [
    "## QA pipline"
   ]
  },
  {
   "cell_type": "code",
   "execution_count": 4,
   "id": "92129e10",
   "metadata": {},
   "outputs": [],
   "source": [
    "#import pinecone\n",
    "\n",
    "#pinecone.init(api_key=\"dcb09f17-2a00-4e05-840f-eb7636bc7320\", environment=\"us-east1-gcp\")"
   ]
  },
  {
   "cell_type": "code",
   "execution_count": 4,
   "id": "d68d6081",
   "metadata": {
    "scrolled": false
   },
   "outputs": [],
   "source": [
    "from haystack.document_stores import PineconeDocumentStore\n",
    "\n",
    "document_store = PineconeDocumentStore(\n",
    "    api_key='d27dc937-4ba8-45a8-8418-15e47115a033',\n",
    "    index='haystack-lfqa',\n",
    "    similarity=\"cosine\",\n",
    "    embedding_dim=768\n",
    ")"
   ]
  },
  {
   "cell_type": "code",
   "execution_count": 5,
   "id": "54d3d242",
   "metadata": {},
   "outputs": [
    {
     "name": "stdout",
     "output_type": "stream",
     "text": [
      "cosine\n",
      "21504\n",
      "21504\n"
     ]
    }
   ],
   "source": [
    "print(document_store.metric_type)\n",
    "print(document_store.get_document_count())\n",
    "print(document_store.get_embedding_count())"
   ]
  },
  {
   "cell_type": "code",
   "execution_count": 7,
   "id": "15e54086",
   "metadata": {},
   "outputs": [],
   "source": [
    "#Retriever\n",
    "from haystack.nodes import EmbeddingRetriever\n",
    "\n",
    "retriever = EmbeddingRetriever(\n",
    "    document_store=document_store,\n",
    "    embedding_model=\"flax-sentence-embeddings/all_datasets_v3_mpnet-base\",\n",
    "    model_format=\"sentence_transformers\"\n",
    ")"
   ]
  },
  {
   "cell_type": "code",
   "execution_count": 8,
   "id": "d4465102",
   "metadata": {},
   "outputs": [],
   "source": [
    "#Generator\n",
    "\n",
    "from haystack.nodes import Seq2SeqGenerator\n",
    "\n",
    "generator = Seq2SeqGenerator(model_name_or_path=\"vblagoje/bart_lfqa\")"
   ]
  },
  {
   "cell_type": "code",
   "execution_count": 9,
   "id": "36f4175d",
   "metadata": {},
   "outputs": [],
   "source": [
    "#Our QA piline\n",
    "\n",
    "from haystack.pipelines import GenerativeQAPipeline\n",
    "\n",
    "pipe = GenerativeQAPipeline(generator, retriever)"
   ]
  },
  {
   "cell_type": "code",
   "execution_count": 30,
   "id": "457f2c51",
   "metadata": {},
   "outputs": [
    {
     "data": {
      "text/plain": [
       "haystack.pipelines.standard_pipelines.GenerativeQAPipeline"
      ]
     },
     "execution_count": 30,
     "metadata": {},
     "output_type": "execute_result"
    }
   ],
   "source": [
    "type(pipe)"
   ]
  },
  {
   "cell_type": "markdown",
   "id": "8f9f270c",
   "metadata": {},
   "source": [
    "### Extracting Text from PDF"
   ]
  },
  {
   "cell_type": "code",
   "execution_count": 10,
   "id": "4aad7244",
   "metadata": {},
   "outputs": [],
   "source": [
    "def text_from_pdf(path: str) -> str:\n",
    "    reader = PdfReader(path)\n",
    "    pages = reader.pages\n",
    "    doc = str()\n",
    "    for page in pages:\n",
    "        doc = doc + page.extract_text() + \" \"\n",
    "    return doc"
   ]
  },
  {
   "cell_type": "code",
   "execution_count": 12,
   "id": "cb4f1e5a",
   "metadata": {},
   "outputs": [],
   "source": [
    "def text_from_pdf_qg(path: str, nlp):\n",
    "    reader = PdfReader(path)\n",
    "    pages = reader.pages\n",
    "    questions = []\n",
    "    for page in pages:\n",
    "        doc = page.extract_text()\n",
    "        quest = nlp(doc)\n",
    "        for item in quest:\n",
    "            questions.append(item)\n",
    "    return questions"
   ]
  },
  {
   "cell_type": "markdown",
   "id": "8c01e804",
   "metadata": {},
   "source": [
    "### Updating our document store"
   ]
  },
  {
   "cell_type": "code",
   "execution_count": 13,
   "id": "3e972751",
   "metadata": {},
   "outputs": [],
   "source": [
    "def update_doc_store(doc: str, article_title : str = \"None\", section_title : str = \"None\" ):\n",
    "    docs = []\n",
    "    doc = Document(\n",
    "            content= doc,\n",
    "            meta={\n",
    "                \"article_title\": article_title,\n",
    "                'section_title': section_title\n",
    "            }\n",
    "        )\n",
    "    docs.append(doc)\n",
    "    embeds = retriever.embed_documents(docs)\n",
    "    doc.embedding = embeds[0]\n",
    "    document_store.write_documents(docs)"
   ]
  },
  {
   "cell_type": "markdown",
   "id": "d04fc207",
   "metadata": {},
   "source": [
    "## QG"
   ]
  },
  {
   "cell_type": "code",
   "execution_count": 14,
   "id": "dc2d64d1",
   "metadata": {},
   "outputs": [],
   "source": [
    "nlp = pipeline(\"e2e-qg\")"
   ]
  },
  {
   "cell_type": "code",
   "execution_count": 19,
   "id": "d5dc9e49",
   "metadata": {},
   "outputs": [],
   "source": [
    "file_name = \"01.pdf\"\n",
    "#doc = text_from_pdf(file_name)"
   ]
  },
  {
   "cell_type": "code",
   "execution_count": 20,
   "id": "cdc4f873",
   "metadata": {},
   "outputs": [],
   "source": [
    "questions = text_from_pdf_qg(file_name,nlp)"
   ]
  },
  {
   "cell_type": "code",
   "execution_count": 21,
   "id": "670371f0",
   "metadata": {},
   "outputs": [
    {
     "data": {
      "text/plain": [
       "['What is the name of the group that is trading as the Taylor & Francis Group?',\n",
       " 'What is a name for the company that is based in China?',\n",
       " 'How many AGB equations were developed after all necessary biomass calculations were done?',\n",
       " 'What is the name of the group that is widely distributed in dry forest and forest margins?',\n",
       " 'Which species has many economic and ecological functions, but its environmental uses are less assessed?',\n",
       " 'The best models selected have higher R2-adj and lower residual standard error?',\n",
       " 'What is an important species in evergreen montane scrub?',\n",
       " 'What is edible and sometimes used to extract oil?',\n",
       " 'Where are leaves, twigs, and wood used to fumigate pots for milk, TELLA, and TEJ?',\n",
       " 'What are the equa- tions developed to estimate biomass components of trees and shrubs in various ecosystems in the world?',\n",
       " 'What can the choice of the allometric model overestimate the greenhouse gas by 40% in the Congo Basin?',\n",
       " 'The site- and species-specific equation has great significance as the carbon balance assessment is influenced by what?',\n",
       " 'Where is Dallo Mana located?',\n",
       " 'How many parts were divided into: measuring trimmed fresh biomass?',\n",
       " 'What was used to determine the diameter at the base of the branch?',\n",
       " 'The fresh bio mass of the leaves from the trimmed branch Btrimmed fresh leaf ) and the fresh biomass of the wood from what?',\n",
       " 'What was measured indirectly as nondestructive?',\n",
       " 'What were the different branches in the trimmed tree processed differently from?',\n",
       " 'How was the basal dia-meter measured for the small branches?',\n",
       " 'The volume Viof each section iwas obtained by mea- suring its diameter and its length?',\n",
       " 'What software was developed by single and multiple linear regression re lations?',\n",
       " 'What was carried out using various goodness-of- fit statistics?',\n",
       " 'How was the best one selected based on the statistics calculated for each equation?',\n",
       " 'What was strongly correlated with DBH and height?',\n",
       " 'What is the best model among indivi- dually analyzed independent parameters?',\n",
       " 'Who explained the dependent variable by 93.6%?',\n",
       " 'What factors are affected by distribution among components of woody plants?',\n",
       " 'What are the most important factors for the estimation of biomass?',\n",
       " 'How are allometric equations being strongly differ- ent for different tree species within the same climatic zones?',\n",
       " 'How many allometric equations were developed with a high significance for O.europaea L. subsp. cuspidata?',\n",
       " 'What is a vast evergreen montane forest in southeastern Ethiopia and similar forest types in the country?',\n",
       " 'Where is the measured one found based on semi-destructive procedural method for equation development?',\n",
       " 'How many trees were measured in the field in Mana Angetu Forest?',\n",
       " 'What are the allometric equations for all of them for better assess- ment of carbon stock?',\n",
       " \"What is the name of the 'Allometric Relationships of Different Tree Species and Stand Aboveground Biomass in the Gomer Laurel Forest?\",\n",
       " 'What year did Legesse, N. use Allometric Equations for Predicting Above- Ground Tree Biomass in Mixed Secondary Forests?',\n",
       " 'What is Bambusa stenostachya?',\n",
       " 'How many individuals of Olea europaea L. subsp. cuspidata were used in this study?',\n",
       " 'What was the name of the study that used aboveground biomass?',\n",
       " 'How many people were in the study of the AGB BGB TB DBH?']"
      ]
     },
     "execution_count": 21,
     "metadata": {},
     "output_type": "execute_result"
    }
   ],
   "source": [
    "questions"
   ]
  },
  {
   "cell_type": "code",
   "execution_count": 23,
   "id": "d0251ece",
   "metadata": {},
   "outputs": [
    {
     "data": {
      "text/plain": [
       "' my email addres is   jj'"
      ]
     },
     "execution_count": 23,
     "metadata": {},
     "output_type": "execute_result"
    }
   ],
   "source": [
    "import re\n",
    "match = \" my email addres is anouar.taizoukt@um6p.ma anouar@gmail.com jj\"\n",
    "match = re.sub(r'[\\w.+-]+@[\\w-]+\\.[\\w.-]+',\"\" ,match)\n",
    "match"
   ]
  },
  {
   "cell_type": "code",
   "execution_count": 119,
   "id": "05d4c247",
   "metadata": {},
   "outputs": [
    {
     "data": {
      "application/vnd.jupyter.widget-view+json": {
       "model_id": "c15ead2c56d447ab8540e06e4b07c6db",
       "version_major": 2,
       "version_minor": 0
      },
      "text/plain": [
       "Batches:   0%|          | 0/1 [00:00<?, ?it/s]"
      ]
     },
     "metadata": {},
     "output_type": "display_data"
    },
    {
     "data": {
      "application/vnd.jupyter.widget-view+json": {
       "model_id": "e0898105c85d4036b1b28ec728786f58",
       "version_major": 2,
       "version_minor": 0
      },
      "text/plain": [
       "Writing Documents:   0%|          | 0/1 [00:00<?, ?it/s]"
      ]
     },
     "metadata": {},
     "output_type": "display_data"
    }
   ],
   "source": [
    "update_doc_store(doc)"
   ]
  },
  {
   "cell_type": "code",
   "execution_count": 120,
   "id": "124656c7",
   "metadata": {},
   "outputs": [
    {
     "name": "stdout",
     "output_type": "stream",
     "text": [
      "21504\n"
     ]
    }
   ],
   "source": [
    "print(document_store.get_embedding_count())"
   ]
  },
  {
   "cell_type": "code",
   "execution_count": 40,
   "id": "8633c92e",
   "metadata": {},
   "outputs": [
    {
     "data": {
      "application/vnd.jupyter.widget-view+json": {
       "model_id": "450799c275c34d909b6869d84441667c",
       "version_major": 2,
       "version_minor": 0
      },
      "text/plain": [
       "Batches:   0%|          | 0/1 [00:00<?, ?it/s]"
      ]
     },
     "metadata": {},
     "output_type": "display_data"
    },
    {
     "name": "stdout",
     "output_type": "stream",
     "text": [
      "\n",
      "Query: The moon's gravity causes what?\n",
      "Answers:\n",
      "[{'answer': \"The Moon's gravity causes the tides on the surface of the Earth.\"}]\n"
     ]
    }
   ],
   "source": [
    "result = pipe.run(\n",
    "    query=\"The moon's gravity causes what?\",\n",
    "    params={\n",
    "        \"Retriever\": {\"top_k\": 3},\n",
    "        \"Generator\": {\"top_k\": 1}\n",
    "    }\n",
    ")\n",
    "\n",
    "print_answers(result, details=\"minimum\")"
   ]
  },
  {
   "cell_type": "code",
   "execution_count": 47,
   "id": "731ec7fb",
   "metadata": {},
   "outputs": [
    {
     "data": {
      "text/plain": [
       "\"The Moon's gravity causes the tides on the surface of the Earth.\""
      ]
     },
     "execution_count": 47,
     "metadata": {},
     "output_type": "execute_result"
    }
   ],
   "source": [
    "answer_dic = result[\"answers\"][0].to_dict()\n",
    "answer_dic[\"answer\"]"
   ]
  },
  {
   "cell_type": "code",
   "execution_count": 123,
   "id": "cfab8b98",
   "metadata": {},
   "outputs": [
    {
     "name": "stdout",
     "output_type": "stream",
     "text": [
      "there is a conspicuous lack of both mathematical theory and controlled experiment, as we know it. These later became decisive factors in forming modern science, and their early application came to be known as classical mechanics.\n",
      "In his Elementa super demonstrationem ponderum, medieval mathematician Jordanus de Nemore introduced the concept of \"positional gravity\" and the use of component forces.\n",
      "The first published causal explanation of the motions of planets was Johannes Kepler's Astronomia nova, published in 1609. He concluded, based on Tycho Brahe's observations on the orbit of Mars, that the planet's orbits were ellipses. This break with ancient thought was happening\n",
      "---\n",
      "the rotation axis of the Earth; this much smaller effect is due to the uneven distribution of the Earth's mass. To make computations feasible, scientists defined ellipsoids of revolution; a given ellipsoid would be a good compromise for measurements in a given area, such as a country or continent. The difference between the direction of a plumb line or vertical, and a line perpendicular to the surface of the ellipsoid of revolution—a normal to said ellipsoid—at a particular observatory, is the deflection of the vertical.\n",
      "When the Airy transit circle was built, a mercury basin was used to align the telescope\n",
      "---\n"
     ]
    }
   ],
   "source": [
    "for doc in result['documents'][1:]:\n",
    "    print(doc.content, end='\\n---\\n')"
   ]
  },
  {
   "cell_type": "code",
   "execution_count": null,
   "id": "f05df0b2",
   "metadata": {},
   "outputs": [],
   "source": []
  }
 ],
 "metadata": {
  "kernelspec": {
   "display_name": "projectS2",
   "language": "python",
   "name": "projects2"
  },
  "language_info": {
   "codemirror_mode": {
    "name": "ipython",
    "version": 3
   },
   "file_extension": ".py",
   "mimetype": "text/x-python",
   "name": "python",
   "nbconvert_exporter": "python",
   "pygments_lexer": "ipython3",
   "version": "3.10.4"
  }
 },
 "nbformat": 4,
 "nbformat_minor": 5
}
